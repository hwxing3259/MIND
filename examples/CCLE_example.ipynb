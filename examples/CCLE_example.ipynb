{
 "cells": [
  {
   "cell_type": "code",
   "execution_count": 2,
   "id": "bfb2995f-7bae-4934-8aab-f88bb4a386af",
   "metadata": {},
   "outputs": [],
   "source": [
    "import os\n",
    "import sys\n",
    "import argparse\n",
    "import torch\n",
    "import torch.multiprocessing\n",
    "import torch.nn as nn\n",
    "from torch.nn.modules.module import Module\n",
    "from scipy.spatial.distance import cdist\n",
    "from sklearn.metrics import pairwise_distances, adjusted_rand_score, normalized_mutual_info_score\n",
    "from sklearn.model_selection import train_test_split\n",
    "from sklearn.preprocessing import StandardScaler\n",
    "\n",
    "from tqdm.auto import tqdm\n",
    "\n",
    "import numpy as np\n",
    "import pandas as pd\n",
    "import snf\n",
    "from sklearn.metrics.pairwise import pairwise_kernels\n",
    "from sklearn.cluster import spectral_clustering, KMeans\n",
    "from sklearn.metrics import v_measure_score\n",
    "import matplotlib.pyplot as plt\n",
    "\n",
    "device = 'cuda' if torch.cuda.is_available() else 'cpu'\n",
    "from MIND_model import *  "
   ]
  },
  {
   "cell_type": "markdown",
   "id": "061f3f54-5ab3-4e4b-bb4c-feff08dc83fc",
   "metadata": {},
   "source": [
    "# CCLE dataset\n",
    "We train and test the CCLE dataests using the proposed model."
   ]
  },
  {
   "cell_type": "code",
   "execution_count": 2,
   "id": "69bfabe0-26c7-47cc-8e25-df3288697c2b",
   "metadata": {},
   "outputs": [],
   "source": [
    "# specify hyperparameters\n",
    "emb_dim = 64\n",
    "lr = 1e-4\n",
    "epoch = 5000"
   ]
  },
  {
   "cell_type": "code",
   "execution_count": 3,
   "id": "98c9cc08-1417-497e-9d9d-acbd3eb70517",
   "metadata": {},
   "outputs": [
    {
     "name": "stdout",
     "output_type": "stream",
     "text": [
      "total number of patients = 1088\n",
      "RNA data missing 69/1088, missing proportion = 0.063\n",
      "meth data missing 245/1088, missing proportion = 0.225\n",
      "cna data missing 93/1088, missing proportion = 0.085\n",
      "metabolomics data missing 160/1088, missing proportion = 0.147\n",
      "miRNA data missing 134/1088, missing proportion = 0.123\n",
      "rppa data missing 189/1088, missing proportion = 0.174\n",
      "Epoch=0\n",
      "Epoch=1000\n",
      "Epoch=2000\n",
      "Epoch=3000\n",
      "Epoch=4000\n"
     ]
    }
   ],
   "source": [
    "np.random.seed(31415)\n",
    "torch.manual_seed(31415)\n",
    "\n",
    "RNA_data = pd.read_csv('./CCLE_preprocessed/RNA_data.csv', header=0, index_col=0)\n",
    "methyl_data = pd.read_csv('./CCLE_preprocessed/meth_data.csv', header=0, index_col=0)\n",
    "cnv_data = pd.read_csv('./CCLE_preprocessed/cna_data.csv', header=0, index_col=0)\n",
    "clinical_data = pd.read_csv('./CCLE_preprocessed/clinic_data.csv', header=0, index_col=0)\n",
    "mtb_data = pd.read_csv('./CCLE_preprocessed/metabolomics_data.csv', header=0, index_col=0)\n",
    "miRNA_data = pd.read_csv('./CCLE_preprocessed/miRNA_data.csv', header=0, index_col=0)\n",
    "rppa_data = pd.read_csv('./CCLE_preprocessed/rppa_data.csv', header=0, index_col=0)\n",
    "\n",
    "N = clinical_data.shape[0]\n",
    "print('total number of patients = {}'.format(N))\n",
    "data_dict = {'RNA': RNA_data, 'meth': methyl_data, 'cna': cnv_data, 'metabolomics':mtb_data, 'miRNA':miRNA_data, 'rppa':rppa_data}\n",
    "\n",
    "for i, j in data_dict.items():\n",
    "    print('{} data missing {}/{}, missing proportion = {}'.format(i, j.iloc[:, 0].isna().sum(), j.shape[0], np.round(j.iloc[:, 0].isna().mean(), 3)))\n",
    "\n",
    "test = MIND(data_dict=data_dict, device=device, emb_dim=emb_dim).to(device)\n",
    "test.my_train(epoch, lr=lr)\n",
    "\n",
    "with torch.no_grad():\n",
    "    z_emb = test.get_embedding()[0].cpu().numpy()\n",
    "\n",
    "if not os.path.isdir('./CCLE_results'):\n",
    "    os.makedirs('./CCLE_results')\n",
    "\n",
    "pd.DataFrame(z_emb, index=RNA_data.index).to_csv('./CCLE_results/embeddings.csv')"
   ]
  },
  {
   "cell_type": "markdown",
   "id": "468e192a-248d-4a58-a1cf-12a75c4f7e23",
   "metadata": {},
   "source": [
    "# Downstreaming task 1: Cancer type classification\n",
    "We fit XGBoost classfiers to predict cancer types of patients using the output embeddings."
   ]
  },
  {
   "cell_type": "code",
   "execution_count": 3,
   "id": "c291f8b5-70b2-45c4-9805-f3f2ff6226f5",
   "metadata": {},
   "outputs": [
    {
     "name": "stderr",
     "output_type": "stream",
     "text": [
      "/opt/anaconda3/envs/work_env/lib/python3.12/site-packages/sklearn/model_selection/_split.py:805: UserWarning: The least populated class in y has only 3 members, which is less than n_splits=5.\n",
      "  warnings.warn(\n"
     ]
    },
    {
     "name": "stdout",
     "output_type": "stream",
     "text": [
      "Test accuracy = 0.6588917965638867\n"
     ]
    }
   ],
   "source": [
    "from sklearn.model_selection import StratifiedKFold\n",
    "import xgboost as xgb\n",
    "from sklearn.preprocessing import LabelEncoder\n",
    "\n",
    "clinic_data = pd.read_csv('./CCLE_preprocessed/clinic_data.csv', header=0, index_col=0)\n",
    "my_idxxx = np.logical_and(~clinic_data['tcga_code'].isna(), clinic_data['tcga_code'] != 'UNABLE TO CLASSIFY')\n",
    "non_missing_types_names = clinic_data.index.to_numpy()[my_idxxx]\n",
    "types_vec = clinic_data['tcga_code'].loc[non_missing_types_names]\n",
    "encoder = LabelEncoder()\n",
    "labels = encoder.fit_transform(types_vec)\n",
    "\n",
    "emb = pd.read_csv('./CCLE_results/embeddings.csv', index_col=0).loc[non_missing_types_names]\n",
    "skf = StratifiedKFold(n_splits=5)\n",
    "acc_temp = 0.\n",
    "for train_idx, test_idx in skf.split(emb, labels):\n",
    "    X_train, X_test = emb.to_numpy()[train_idx], emb.to_numpy()[test_idx]\n",
    "    y_train, y_test = labels[train_idx], labels[test_idx]\n",
    "\n",
    "    model = xgb.XGBClassifier(\n",
    "        objective='multi:softmax',  # or 'multi:softprob' if you want probabilities\n",
    "        num_class=len(np.unique(labels)),\n",
    "        eval_metric='mlogloss'\n",
    "    )\n",
    "    model.fit(X_train, y_train)\n",
    "\n",
    "    y_pred = model.predict(X_test)\n",
    "    acc_temp += np.mean(y_pred == y_test)\n",
    "    \n",
    "print('Test accuracy = {}'.format(acc_temp/5.))"
   ]
  },
  {
   "cell_type": "markdown",
   "id": "00822aa9-4a64-445c-a09a-2afffd5bfe66",
   "metadata": {},
   "source": [
    "# Downstreaming task 2: Reconstruction\n",
    "We comapre predicted vs observed in the same way as the TCGA example."
   ]
  },
  {
   "cell_type": "code",
   "execution_count": 4,
   "id": "c6745e55-66bd-4799-86cf-6d0d4c0fa2b1",
   "metadata": {},
   "outputs": [
    {
     "name": "stdout",
     "output_type": "stream",
     "text": [
      "total number of patients = 1088\n",
      "RNA data missing 163/1088, missing proportion = 0.15\n",
      "meth data missing 323/1088, missing proportion = 0.297\n",
      "cna data missing 183/1088, missing proportion = 0.168\n",
      "metabolomics data missing 249/1088, missing proportion = 0.229\n",
      "miRNA data missing 221/1088, missing proportion = 0.203\n",
      "rppa data missing 273/1088, missing proportion = 0.251\n",
      "Epoch=0\n",
      "Epoch=1000\n",
      "Epoch=2000\n",
      "Epoch=3000\n",
      "Epoch=4000\n"
     ]
    }
   ],
   "source": [
    "np.random.seed(31415)\n",
    "torch.manual_seed(31415)\n",
    "\n",
    "RNA_data = pd.read_csv('./CCLE_preprocessed/RNA_data_train.csv', header=0, index_col=0)\n",
    "methyl_data = pd.read_csv('./CCLE_preprocessed/meth_data_train.csv', header=0, index_col=0)\n",
    "cnv_data = pd.read_csv('./CCLE_preprocessed/cna_data_train.csv', header=0, index_col=0)\n",
    "clinical_data = pd.read_csv('./CCLE_preprocessed/clinic_data.csv', header=0, index_col=0)\n",
    "mtb_data = pd.read_csv('./CCLE_preprocessed/metabolomics_data_train.csv', header=0, index_col=0)\n",
    "miRNA_data = pd.read_csv('./CCLE_preprocessed/miRNA_data_train.csv', header=0, index_col=0)\n",
    "rppa_data = pd.read_csv('./CCLE_preprocessed/rppa_data_train.csv', header=0, index_col=0)\n",
    "\n",
    "N = clinical_data.shape[0]\n",
    "print('total number of patients = {}'.format(N))\n",
    "data_dict = {'RNA': RNA_data, 'meth': methyl_data, 'cna': cnv_data, 'metabolomics':mtb_data, 'miRNA':miRNA_data, 'rppa':rppa_data}\n",
    "\n",
    "for i, j in data_dict.items():\n",
    "    print('{} data missing {}/{}, missing proportion = {}'.format(i, j.iloc[:, 0].isna().sum(), j.shape[0], np.round(j.iloc[:, 0].isna().mean(), 3)))\n",
    "\n",
    "test = MIND(data_dict=data_dict, device=device, emb_dim=emb_dim).to(device)\n",
    "test.my_train(epoch, lr=lr)\n",
    "\n",
    "with torch.no_grad():\n",
    "    z_emb = test.get_embedding()[0].cpu().numpy()\n",
    "\n",
    "pred = test.predict()\n",
    "for i, nammme in enumerate(data_dict.keys()):\n",
    "    test_obs = pd.read_csv('./CCLE_preprocessed/{}_data_test.csv'.format(nammme), header=0, index_col=0)\n",
    "    hms = pd.DataFrame(pred[i].numpy(), index=RNA_data.index).loc[test_obs.index]\n",
    "    hms.to_csv('./CCLE_results/{}_data_test_pred.csv'.format(nammme))"
   ]
  },
  {
   "cell_type": "code",
   "execution_count": 4,
   "id": "c428bc10-2aff-4318-b58a-69257c441654",
   "metadata": {},
   "outputs": [
    {
     "name": "stdout",
     "output_type": "stream",
     "text": [
      "              Pearson Correlaiton\n",
      "RNA                      0.571903\n",
      "meth                     0.446769\n",
      "cna                      0.174209\n",
      "metabolomics             0.337860\n",
      "miRNA                    0.244199\n",
      "rppa                     0.378902\n"
     ]
    }
   ],
   "source": [
    "mods = ['RNA', 'meth', 'cna', 'metabolomics', 'miRNA', 'rppa']\n",
    "res_corr = pd.DataFrame(np.zeros((6, 1)) * np.nan, columns=['Pearson Correlaiton'], index=mods)\n",
    "for mod in mods:\n",
    "    pred = pd.read_csv('./CCLE_results/{}_data_test_pred.csv'.format(mod), header=0, index_col=0).to_numpy().ravel()\n",
    "    obs = pd.read_csv('./CCLE_preprocessed/{}_data_test.csv'.format(mod), header=0, index_col=0).to_numpy().ravel()\n",
    "    res_corr.loc[mod, 'Pearson Correlaiton'] = np.corrcoef(pred, obs)[0, 1]\n",
    "print(res_corr)"
   ]
  },
  {
   "cell_type": "code",
   "execution_count": null,
   "id": "f6da98ed-76ef-414d-a11b-0a32adf40e4a",
   "metadata": {},
   "outputs": [],
   "source": []
  }
 ],
 "metadata": {
  "kernelspec": {
   "display_name": "Python 3 (ipykernel)",
   "language": "python",
   "name": "python3"
  },
  "language_info": {
   "codemirror_mode": {
    "name": "ipython",
    "version": 3
   },
   "file_extension": ".py",
   "mimetype": "text/x-python",
   "name": "python",
   "nbconvert_exporter": "python",
   "pygments_lexer": "ipython3",
   "version": "3.12.2"
  }
 },
 "nbformat": 4,
 "nbformat_minor": 5
}
