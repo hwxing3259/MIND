{
 "cells": [
  {
   "cell_type": "code",
   "execution_count": 1,
   "id": "78782345-7e99-4359-af35-e5c19eb2bb67",
   "metadata": {},
   "outputs": [
    {
     "name": "stderr",
     "output_type": "stream",
     "text": [
      "/opt/anaconda3/envs/work_env/lib/python3.12/site-packages/tqdm/auto.py:21: TqdmWarning: IProgress not found. Please update jupyter and ipywidgets. See https://ipywidgets.readthedocs.io/en/stable/user_install.html\n",
      "  from .autonotebook import tqdm as notebook_tqdm\n"
     ]
    }
   ],
   "source": [
    "import os\n",
    "import sys\n",
    "import argparse\n",
    "import torch\n",
    "import torch.multiprocessing\n",
    "import torch.nn as nn\n",
    "from torch.nn.modules.module import Module\n",
    "from scipy.spatial.distance import cdist\n",
    "from sklearn.metrics import pairwise_distances, adjusted_rand_score, normalized_mutual_info_score\n",
    "from sklearn.model_selection import train_test_split\n",
    "from sklearn.preprocessing import StandardScaler\n",
    "\n",
    "from tqdm.auto import tqdm\n",
    "\n",
    "import numpy as np\n",
    "import pandas as pd\n",
    "import snf\n",
    "from sklearn.metrics.pairwise import pairwise_kernels\n",
    "from sklearn.cluster import spectral_clustering, KMeans\n",
    "from sklearn.metrics import v_measure_score\n",
    "import matplotlib.pyplot as plt\n",
    "\n",
    "device = 'cuda' if torch.cuda.is_available() else 'cpu'\n",
    "from MIND_model import *  "
   ]
  },
  {
   "cell_type": "markdown",
   "id": "cc2e94e5-e7d8-49d2-b9ee-a38eac9734e2",
   "metadata": {},
   "source": [
    "# CCMA dataset\n",
    "We train and test the CCMA dataests using the proposed model."
   ]
  },
  {
   "cell_type": "code",
   "execution_count": 2,
   "id": "767fd3a8-f35f-405c-854a-06a00e4d4a3e",
   "metadata": {},
   "outputs": [],
   "source": [
    "# specify hyperparameters\n",
    "emb_dim = 64\n",
    "lr = 1e-4\n",
    "epoch = 5000"
   ]
  },
  {
   "cell_type": "code",
   "execution_count": 4,
   "id": "c029dc0f-7a9b-4b78-a963-6f616316e8ba",
   "metadata": {},
   "outputs": [
    {
     "name": "stdout",
     "output_type": "stream",
     "text": [
      "total number of patients = 181\n",
      "mRNA data missing 5/181, missing proportion = 0.028\n",
      "methyl data missing 30/181, missing proportion = 0.166\n",
      "CNV data missing 57/181, missing proportion = 0.315\n",
      "Epoch=0\n",
      "Epoch=1000\n",
      "Epoch=2000\n",
      "Epoch=3000\n",
      "Epoch=4000\n"
     ]
    }
   ],
   "source": [
    "np.random.seed(31415)\n",
    "torch.manual_seed(31415)\n",
    "\n",
    "RNA_data = pd.read_csv('./CCMA_preprocessed/mRNA.csv', header=0, index_col=0)\n",
    "methyl_data = pd.read_csv('./CCMA_preprocessed/meth.csv', header=0, index_col=0)\n",
    "cnv_data = pd.read_csv('./CCMA_preprocessed/CNV.csv', header=0, index_col=0)\n",
    "clinical_data = pd.read_csv('./CCMA_preprocessed/clinical.csv', header=0, index_col=0)\n",
    "\n",
    "N = clinical_data.shape[0]\n",
    "print('total number of patients = {}'.format(N))\n",
    "data_dict = {'mRNA': RNA_data, 'methyl': methyl_data, 'CNV': cnv_data}\n",
    "\n",
    "for i, j in data_dict.items():\n",
    "    print('{} data missing {}/{}, missing proportion = {}'.format(i, j.iloc[:, 0].isna().sum(), j.shape[0], np.round(j.iloc[:, 0].isna().mean(), 3)))\n",
    "\n",
    "test = MIND(data_dict=data_dict, device=device, emb_dim=emb_dim).to(device)\n",
    "test.my_train(epoch, lr=lr)\n",
    "\n",
    "with torch.no_grad():\n",
    "    z_emb = test.get_embedding()[0].cpu().numpy()\n",
    "\n",
    "if not os.path.isdir('./CCMA_results'):\n",
    "    os.makedirs('./CCMA_results')\n",
    "\n",
    "pd.DataFrame(z_emb, index=RNA_data.index).to_csv('./CCMA_results/embeddings.csv')"
   ]
  },
  {
   "cell_type": "markdown",
   "id": "4d49cdc7-89a2-4e5c-b786-fdb56995c2bf",
   "metadata": {},
   "source": [
    "# Downstreaming task 1: Cancer type classification\n",
    "We fit XGBoost classfiers to predict cancer types of patients using the output embeddings."
   ]
  },
  {
   "cell_type": "code",
   "execution_count": 5,
   "id": "1a82b18a-1d06-49ca-83e3-c9095ba2dfe8",
   "metadata": {},
   "outputs": [
    {
     "name": "stderr",
     "output_type": "stream",
     "text": [
      "/opt/anaconda3/envs/work_env/lib/python3.12/site-packages/sklearn/model_selection/_split.py:805: UserWarning: The least populated class in y has only 3 members, which is less than n_splits=5.\n",
      "  warnings.warn(\n"
     ]
    },
    {
     "name": "stdout",
     "output_type": "stream",
     "text": [
      "Test accuracy = 0.7925925925925926\n"
     ]
    }
   ],
   "source": [
    "from sklearn.model_selection import StratifiedKFold\n",
    "import xgboost as xgb\n",
    "from sklearn.preprocessing import LabelEncoder\n",
    "from sklearn.ensemble import GradientBoostingClassifier\n",
    "\n",
    "\n",
    "clinic_data = pd.read_csv('./CCMA_preprocessed/clinical.csv', header=0, index_col=0)\n",
    "# remove cancer types with sample size 1\n",
    "my_idxxx = [_ in ['H3K27-DMG', 'ATRT', 'H3WT-HGG', 'Adult HGG', 'OS', 'MDB', 'H3G34-DHG', 'MRT'] for _ in clinic_data['cancer_type_abbrev']]\n",
    "non_missing_types_names = clinic_data.index.to_numpy()[my_idxxx]\n",
    "types_vec = clinic_data['cancer_type_abbrev'].loc[non_missing_types_names]\n",
    "encoder = LabelEncoder()\n",
    "labels = encoder.fit_transform(types_vec)\n",
    "\n",
    "emb = pd.read_csv('./CCMA_results/embeddings.csv', index_col=0).loc[non_missing_types_names]\n",
    "skf = StratifiedKFold(n_splits=5)\n",
    "acc_temp = 0.\n",
    "for train_idx, test_idx in skf.split(emb, labels):\n",
    "    X_train, X_test = emb.to_numpy()[train_idx], emb.to_numpy()[test_idx]\n",
    "    y_train, y_test = labels[train_idx], labels[test_idx]\n",
    "        \n",
    "    model_gbm = GradientBoostingClassifier(n_estimators=150)\n",
    "        \n",
    "    model = xgb.XGBClassifier(\n",
    "        objective='multi:softmax',  # or 'multi:softprob' if you want probabilities\n",
    "        num_class=len(np.unique(labels)),\n",
    "        eval_metric='mlogloss'\n",
    "    )\n",
    "    model.fit(X_train, y_train)\n",
    "\n",
    "    y_pred = model.predict(X_test)\n",
    "    acc_temp += np.mean(y_pred == y_test)\n",
    "print('Test accuracy = {}'.format(acc_temp/5.))\n"
   ]
  },
  {
   "cell_type": "markdown",
   "id": "24cabc82-ded7-4112-a151-d7f8aa1d5fce",
   "metadata": {},
   "source": [
    "# Downstreaming task 2: Reconstruction\n",
    "We comapre predicted vs observed in the same way as the TCGA example."
   ]
  },
  {
   "cell_type": "code",
   "execution_count": 7,
   "id": "dcf85943-fad5-4a23-a0a3-2c1768839de5",
   "metadata": {},
   "outputs": [
    {
     "name": "stdout",
     "output_type": "stream",
     "text": [
      "total number of patients = 181\n",
      "mRNA data missing 19/181, missing proportion = 0.105\n",
      "meth data missing 43/181, missing proportion = 0.238\n",
      "CNV data missing 68/181, missing proportion = 0.376\n",
      "Epoch=0\n",
      "Epoch=1000\n",
      "Epoch=2000\n",
      "Epoch=3000\n",
      "Epoch=4000\n"
     ]
    }
   ],
   "source": [
    "np.random.seed(31415)\n",
    "torch.manual_seed(31415)\n",
    "\n",
    "RNA_data = pd.read_csv('./CCMA_preprocessed/mRNA_train.csv', header=0, index_col=0)\n",
    "methyl_data = pd.read_csv('./CCMA_preprocessed/meth_train.csv', header=0, index_col=0)\n",
    "cnv_data = pd.read_csv('./CCMA_preprocessed/CNV_train.csv', header=0, index_col=0)\n",
    "clinical_data = pd.read_csv('./CCMA_preprocessed/clinical.csv', header=0, index_col=0)\n",
    "\n",
    "N = clinical_data.shape[0]\n",
    "print('total number of patients = {}'.format(N))\n",
    "data_dict = {'mRNA': RNA_data, 'meth': methyl_data, 'CNV': cnv_data}\n",
    "\n",
    "for i, j in data_dict.items():\n",
    "    print('{} data missing {}/{}, missing proportion = {}'.format(i, j.iloc[:, 0].isna().sum(), j.shape[0], np.round(j.iloc[:, 0].isna().mean(), 3)))\n",
    "\n",
    "test = MIND(data_dict=data_dict, device=device, emb_dim=emb_dim).to(device)\n",
    "test.my_train(epoch, lr=lr)\n",
    "\n",
    "pred = test.predict()\n",
    "for i, nammme in enumerate(data_dict.keys()):\n",
    "    test_obs = pd.read_csv('./CCMA_preprocessed/{}_test.csv'.format(nammme), header=0, index_col=0)\n",
    "    hms = pd.DataFrame(pred[i].numpy(), index=RNA_data.index).loc[test_obs.index]\n",
    "    hms.to_csv('./CCMA_results/{}_test_pred.csv'.format(nammme))"
   ]
  },
  {
   "cell_type": "code",
   "execution_count": 8,
   "id": "faf57960-e59d-4abe-8a5e-1a55b14bf258",
   "metadata": {},
   "outputs": [
    {
     "name": "stdout",
     "output_type": "stream",
     "text": [
      "      Pearson Correlaiton\n",
      "mRNA             0.549651\n",
      "meth             0.648310\n",
      "CNV              0.836352\n"
     ]
    }
   ],
   "source": [
    "mods = ['mRNA', 'meth', 'CNV']\n",
    "res_corr = pd.DataFrame(np.zeros((3, 1)) * np.nan, columns=['Pearson Correlaiton'], index=mods)\n",
    "for mod in mods:\n",
    "    pred = pd.read_csv('./CCMA_results/{}_test_pred.csv'.format(mod), header=0, index_col=0).to_numpy().ravel()\n",
    "    obs = pd.read_csv('./CCMA_preprocessed/{}_test.csv'.format(mod), header=0, index_col=0).to_numpy().ravel()\n",
    "    res_corr.loc[mod, 'Pearson Correlaiton'] = np.corrcoef(pred, obs)[0, 1]\n",
    "print(res_corr)"
   ]
  },
  {
   "cell_type": "code",
   "execution_count": null,
   "id": "157427c3-e7d0-4cc9-8706-2840b4bbf8d5",
   "metadata": {},
   "outputs": [],
   "source": []
  }
 ],
 "metadata": {
  "kernelspec": {
   "display_name": "Python 3 (ipykernel)",
   "language": "python",
   "name": "python3"
  },
  "language_info": {
   "codemirror_mode": {
    "name": "ipython",
    "version": 3
   },
   "file_extension": ".py",
   "mimetype": "text/x-python",
   "name": "python",
   "nbconvert_exporter": "python",
   "pygments_lexer": "ipython3",
   "version": "3.12.2"
  }
 },
 "nbformat": 4,
 "nbformat_minor": 5
}
